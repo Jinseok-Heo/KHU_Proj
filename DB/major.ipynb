{
 "cells": [
  {
   "cell_type": "code",
   "execution_count": 3,
   "metadata": {},
   "outputs": [],
   "source": [
    "import pandas as pd\n",
    "import os"
   ]
  },
  {
   "cell_type": "code",
   "execution_count": 5,
   "metadata": {},
   "outputs": [],
   "source": [
    "cwd = os.getcwd()\n",
    "file_path = os.path.join(cwd, 'major_raw.txt')"
   ]
  },
  {
   "cell_type": "code",
   "execution_count": 7,
   "metadata": {},
   "outputs": [],
   "source": [
    "with open(file_path, encoding='utf-8') as file:\n",
    "    data = file.read()\n",
    "    data = data.split('\\n')"
   ]
  },
  {
   "cell_type": "code",
   "execution_count": 10,
   "metadata": {},
   "outputs": [],
   "source": [
    "m = {'major' : data}"
   ]
  },
  {
   "cell_type": "code",
   "execution_count": 14,
   "metadata": {},
   "outputs": [
    {
     "data": {
      "text/plain": [
       "['기계공학과',\n",
       " '산업경영공학과',\n",
       " '원자력공학과',\n",
       " '화학공학과',\n",
       " '정보전자신소재공학과',\n",
       " '사회기반시스템공학과',\n",
       " '건축공학과',\n",
       " '환경공학과',\n",
       " '환경학과',\n",
       " '환경공학과',\n",
       " '건축학과',\n",
       " '전자공학과',\n",
       " '생체의공학과',\n",
       " '컴퓨터공학과',\n",
       " '소프트웨어융합학과',\n",
       " '응용수학과',\n",
       " '응용물리학과',\n",
       " '응용화학과',\n",
       " '우주과학과',\n",
       " '식물환경신소재공학과',\n",
       " '식품생명공학과',\n",
       " '원예생명공학과',\n",
       " '유전공학과',\n",
       " '한방재료공학과',\n",
       " '국제학과',\n",
       " '글로벌한국학과',\n",
       " '프랑스어학과',\n",
       " '스페인어학과',\n",
       " '러시아어학과',\n",
       " '중국어학과',\n",
       " '일본어학과',\n",
       " '한국어학과',\n",
       " '영미어문전공',\n",
       " '영미문화전공',\n",
       " '산업디자인학과',\n",
       " '시각디자인학과',\n",
       " '환경조경디자인학과',\n",
       " '의류디자인학과',\n",
       " '디지털콘텐츠학과',\n",
       " '도예학과',\n",
       " '연극영화학과',\n",
       " '포스트모던음악학과',\n",
       " '체육학과',\n",
       " '스포츠의학과',\n",
       " '골프산업학과',\n",
       " '스포츠지도학과',\n",
       " '태권도학과',\n",
       " '글로벌엔지니어링',\n",
       " '글로벌문화기술',\n",
       " '4D아트',\n",
       " '아트&테크놀로지',\n",
       " '스마트팜공학']"
      ]
     },
     "execution_count": 14,
     "metadata": {},
     "output_type": "execute_result"
    }
   ],
   "source": [
    "data"
   ]
  },
  {
   "cell_type": "code",
   "execution_count": 13,
   "metadata": {},
   "outputs": [],
   "source": [
    "df = pd.DataFrame(m)\n",
    "df.to_csv('major.csv', encoding='utf-8-sig')"
   ]
  }
 ],
 "metadata": {
  "kernelspec": {
   "display_name": "Python 3",
   "language": "python",
   "name": "python3"
  },
  "language_info": {
   "codemirror_mode": {
    "name": "ipython",
    "version": 3
   },
   "file_extension": ".py",
   "mimetype": "text/x-python",
   "name": "python",
   "nbconvert_exporter": "python",
   "pygments_lexer": "ipython3",
   "version": "3.9.0"
  }
 },
 "nbformat": 4,
 "nbformat_minor": 4
}
